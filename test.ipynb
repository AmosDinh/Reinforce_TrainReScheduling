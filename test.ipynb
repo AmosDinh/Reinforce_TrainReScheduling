{
 "cells": [
  {
   "cell_type": "code",
   "execution_count": 3,
   "metadata": {},
   "outputs": [],
   "source": [
    "import numpy as np\n",
    "from flatland.envs.rail_env import RailEnv\n",
    "\n",
    "env = RailEnv(width=30, height=30)\n",
    "obs = env.reset()\n",
    "while True:\n",
    "    obs, rew, done, info = env.step(\n",
    "        {0: np.random.randint(0, 5), 1: np.random.randint(0, 5)}\n",
    "    )\n",
    "    if done:\n",
    "        break"
   ]
  }
 ],
 "metadata": {
  "kernelspec": {
   "display_name": "relearning",
   "language": "python",
   "name": "python3"
  },
  "language_info": {
   "codemirror_mode": {
    "name": "ipython",
    "version": 3
   },
   "file_extension": ".py",
   "mimetype": "text/x-python",
   "name": "python",
   "nbconvert_exporter": "python",
   "pygments_lexer": "ipython3",
   "version": "3.10.14"
  }
 },
 "nbformat": 4,
 "nbformat_minor": 2
}
